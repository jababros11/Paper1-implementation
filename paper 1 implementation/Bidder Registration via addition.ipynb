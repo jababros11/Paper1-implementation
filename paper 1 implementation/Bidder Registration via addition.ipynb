{
 "cells": [
  {
   "cell_type": "code",
   "execution_count": 1,
   "metadata": {},
   "outputs": [],
   "source": [
    "# this part of the codes fetches requirements\n",
    "import hashlib\n",
    "from phe import paillier\n",
    "import random as rd\n",
    "import numpy as np"
   ]
  },
  {
   "cell_type": "code",
   "execution_count": 2,
   "metadata": {},
   "outputs": [],
   "source": [
    "#  this part of the code creates unique BID for all participants\n",
    "listOfIDS = []\n",
    "numberOfBidders = 10\n",
    "for i in range(0,numberOfBidders):\n",
    "  i = str(i)\n",
    "  listOfIDS.append(hashlib.sha256(i.encode('utf-8')).hexdigest())\n",
    "i = 0"
   ]
  },
  {
   "cell_type": "code",
   "execution_count": 3,
   "metadata": {},
   "outputs": [],
   "source": [
    "#this part creates the key pairs for all participants\n",
    "dictionaryOfPublicKeys = {}\n",
    "dictionaryOfPrivateKeys = {}\n",
    "publicKeyAuc, privateKeyAuc = paillier.generate_paillier_keypair(n_length= 32)\n",
    "for i in range(0, numberOfBidders):\n",
    "    x,y = paillier.generate_paillier_keypair(n_length=64)\n",
    "    dictionaryOfPublicKeys[listOfIDS[i]],dictionaryOfPrivateKeys[listOfIDS[i]]  = x ,y\n",
    "i = 0"
   ]
  },
  {
   "cell_type": "markdown",
   "metadata": {},
   "source": [
    "end of the Registration phase and start of Bid Submission Phase"
   ]
  },
  {
   "cell_type": "code",
   "execution_count": 17,
   "metadata": {},
   "outputs": [
    {
     "name": "stdout",
     "output_type": "stream",
     "text": [
      "{'5feceb66ffc86f38d952786c6d696c79c2dbc239dd4e91b46729d73a27fb57e9': 28, '6b86b273ff34fce19d6b804eff5a3f5747ada4eaa22f1d49c01e52ddb7875b4b': 7, 'd4735e3a265e16eee03f59718b9b5d03019c07d8b6c51f90da3a666eec13ab35': 67, '4e07408562bedb8b60ce05c1decfe3ad16b72230967de01f640b7e4729b49fce': 44, '4b227777d4dd1fc61c6f884f48641d02b4d121d3fd328cb08b5531fcacdabf8a': 21, 'ef2d127de37b942baad06145e54b0c619a1f22327b2ebbcfbec78f5564afe39d': 69, 'e7f6c011776e8db7cd330b54174fd76f7d0216b612387a5ffcfb81e6f0919683': 85, '7902699be42c8a8e46fbbb4501726517e86b22c56a189f7625a6da49081b2451': 41, '2c624232cdd221771294dfbb310aca000a0df6ac8b66b696d90ef06fdefb64a3': 20, '19581e27de7ced00ff1ce50b2047e7a567c76b1cbaebabe5ef03f7c3017bb5b7': 6}\n",
      "{'5feceb66ffc86f38d952786c6d696c79c2dbc239dd4e91b46729d73a27fb57e9': 5710, '6b86b273ff34fce19d6b804eff5a3f5747ada4eaa22f1d49c01e52ddb7875b4b': 5761, 'd4735e3a265e16eee03f59718b9b5d03019c07d8b6c51f90da3a666eec13ab35': 5105, '4e07408562bedb8b60ce05c1decfe3ad16b72230967de01f640b7e4729b49fce': 8942, '4b227777d4dd1fc61c6f884f48641d02b4d121d3fd328cb08b5531fcacdabf8a': 1178, 'ef2d127de37b942baad06145e54b0c619a1f22327b2ebbcfbec78f5564afe39d': 8823, 'e7f6c011776e8db7cd330b54174fd76f7d0216b612387a5ffcfb81e6f0919683': 5452, '7902699be42c8a8e46fbbb4501726517e86b22c56a189f7625a6da49081b2451': 6549, '2c624232cdd221771294dfbb310aca000a0df6ac8b66b696d90ef06fdefb64a3': 7532, '19581e27de7ced00ff1ce50b2047e7a567c76b1cbaebabe5ef03f7c3017bb5b7': 5916}\n"
     ]
    }
   ],
   "source": [
    "# this part of the code generate random number and distinct bid values for all bidders and Auctioneer\n",
    "dictionaryOfRandomNumbers = {}\n",
    "dictionaryOfBids = {}\n",
    "bids  = rd.sample(range(1, 100 ), numberOfBidders)\n",
    "for i in range(0,numberOfBidders):\n",
    "    r  = rd.randint(100,10000)\n",
    "    dictionaryOfRandomNumbers[listOfIDS[i]] =  r\n",
    "    dictionaryOfBids[listOfIDS[i]] = bids[i]\n",
    "i = 0\n",
    "print(dictionaryOfBids)\n",
    "print(dictionaryOfRandomNumbers)\n"
   ]
  },
  {
   "cell_type": "code",
   "execution_count": 5,
   "metadata": {},
   "outputs": [],
   "source": [
    "# this PART OF THE CODE SIMULATES BIDDER GENERATING PRODUCT AND THAN SENDING TO NEXT BIDDER\n",
    "finalSubmittedDataFirstPhase = [] #will be sused to stored the final resuklt of the two bidder for bid submission\n",
    "for i in range(0,numberOfBidders):\n",
    "    id = listOfIDS[i]\n",
    "    dataPerBidder= []\n",
    "    # print(dictionaryOfBids[id] * dictionaryOfRandomNumbers[id])\n",
    "    encrytionOfBidAndRandomNumber = publicKeyAuc.raw_encrypt(dictionaryOfBids[id] * dictionaryOfRandomNumbers[id])\n",
    "    # this part of code is forwarding the encrytionOfBidAndRandomNumber to all other bidders and after multiplication of the random number of the next\n",
    "    # bidder it is sent to the Auctioneer immediately\n",
    "    for j in range(0,numberOfBidders):\n",
    "        if j != i:\n",
    "            idOfNextBidder = listOfIDS[j]\n",
    "            pubKeyNextBidder, priKeyNextBidder= dictionaryOfPublicKeys[idOfNextBidder],dictionaryOfPrivateKeys[idOfNextBidder]\n",
    "            e = pubKeyNextBidder.raw_encrypt(encrytionOfBidAndRandomNumber)\n",
    "            e = priKeyNextBidder.raw_decrypt(e)\n",
    "            encrytionOfBidAndBothRandomNumber = e ** dictionaryOfRandomNumbers[idOfNextBidder]\n",
    "            # this part of the code simulates the storing of the data of the bid summision to auctioneer data\n",
    "            dataPerBidder.append(privateKeyAuc.raw_decrypt(encrytionOfBidAndBothRandomNumber))\n",
    "        else:\n",
    "            dataPerBidder.append(0)\n",
    "    finalSubmittedDataFirstPhase.append(dataPerBidder)\n",
    "i,j = 0,0"
   ]
  },
  {
   "cell_type": "code",
   "execution_count": 6,
   "metadata": {},
   "outputs": [
    {
     "name": "stdout",
     "output_type": "stream",
     "text": [
      "[0, 4105920, 3756480, 4298112, 6744192, 5101824, 1738464, 1843296, 3765216, 3214848]\n",
      "[366600, 0, 1010500, 1156200, 1814200, 1372400, 467650, 495850, 1012850, 864800]\n",
      "[2012400, 6063000, 0, 6346800, 9958800, 7533600, 2567100, 2721900, 5559900, 4747200]\n",
      "[6523920, 19655400, 17982600, 0, 32285040, 24422880, 8322180, 8824020, 18024420, 15389760]\n",
      "[2649504, 7982480, 7303120, 8356128, 0, 9918656, 3379816, 3583624, 7320104, 6250112]\n",
      "[1822080, 5489600, 5022400, 5746560, 9016960, 0, 2324320, 2464480, 5034080, 4298240]\n",
      "[1769508, 5331210, 4877490, 5580756, 8756796, 6624312, 0, 2393373, 4888833, 4174224]\n",
      "[3127020, 9421150, 8619350, 9862140, 15474740, 11706280, 3988955, 0, 8639395, 7376560]\n",
      "[1008540, 3038550, 2779950, 3180780, 4990980, 3775560, 1286535, 1364115, 0, 2379120]\n",
      "[4018560, 12107200, 11076800, 12673920, 19886720, 15043840, 5126240, 5435360, 11102560, 0]\n"
     ]
    }
   ],
   "source": [
    "for i in range(len(finalSubmittedDataFirstPhase)):\n",
    "    print(finalSubmittedDataFirstPhase[i])\n",
    "i = 0"
   ]
  },
  {
   "cell_type": "markdown",
   "metadata": {},
   "source": [
    "implementation of the second phase here auctioneer reforward each packet to every bidder to multiply their random number."
   ]
  },
  {
   "cell_type": "code",
   "execution_count": 7,
   "metadata": {},
   "outputs": [],
   "source": [
    "def power(val, power):\n",
    "    result = pow(val, power//2)\n",
    "    result = result * result\n",
    " \n",
    "    if power % 2 != 0:\n",
    "        result = result * val\n",
    "    return result"
   ]
  },
  {
   "cell_type": "code",
   "execution_count": 12,
   "metadata": {},
   "outputs": [
    {
     "data": {
      "text/plain": [
       "4113"
      ]
     },
     "execution_count": 12,
     "metadata": {},
     "output_type": "execute_result"
    }
   ],
   "source": [
    "#this function works as the intermediate steps where we are requesting each bidder to multiplyt his random number to the given ciphertext\n",
    "productOfRandomNumbers = 0\n",
    "for k in range(numberOfBidders):\n",
    "    productOfRandomNumbers = productOfRandomNumbers + dictionaryOfRandomNumbers[listOfIDS[k]]\n",
    "productOfRandomNumbers"
   ]
  },
  {
   "cell_type": "code",
   "execution_count": 15,
   "metadata": {},
   "outputs": [
    {
     "name": "stdout",
     "output_type": "stream",
     "text": [
      "34324631165019498594703503566305672016164307762027475302662131022644958343745574995431043140918017777675208620273050902206974693914695631397996738293537642543644748430897012320292163762739410939555326739065802721398175435172946682598522797778097181693445768874374047002582648351236945388483425817959523692101355968423788442329974111373112107927443486971727152795004697834603168554313169398016892894474430080765911640734748808894898106866582032267099037276799511403081008680428508824354542460696222361087604805255733457472015454466134395530167828584086708044811561918583066399823569575436937455681348288568540275961258262181271405108270179606777811811522003074552042031469904076020339597371913221797942933828602430052495201517958706614699862251251865113237164729137866046080689322735991009031556893380625958006642499096676626831380490078733514842430651159147914406995396984921813825704867118790654578584001396447642438959228437194670938410321026260038148516325928416457226511757108830507937385549904759010524634295066774433578627655839810627610589769698928321718772966724818660002783738401014698874070348659205671689575387917406023671030156709664837451268959138454699011483866276083293165346132950383114325433048243884003431980489287490604801483585388826193010472989596565253445146592452108404178231204675132807860646464170908068887422175634185373564727203692412174592307543580856348358371652065591997422825833340189475049904482721242678187634178413370581635857534053460704809248096256\n"
     ]
    }
   ],
   "source": [
    "print(pow(publicKeyAuc.g,156))"
   ]
  },
  {
   "cell_type": "code",
   "execution_count": 10,
   "metadata": {},
   "outputs": [],
   "source": [
    "def everyBiddersRandomNumberMultiplication(x):\n",
    "    X = np.power(x,productOfRandomNumbers)\n",
    "    return x"
   ]
  },
  {
   "cell_type": "code",
   "execution_count": 11,
   "metadata": {},
   "outputs": [
    {
     "name": "stdout",
     "output_type": "stream",
     "text": [
      "2\n"
     ]
    },
    {
     "ename": "KeyboardInterrupt",
     "evalue": "",
     "output_type": "error",
     "traceback": [
      "\u001b[0;31m---------------------------------------------------------------------------\u001b[0m",
      "\u001b[0;31mKeyboardInterrupt\u001b[0m                         Traceback (most recent call last)",
      "Cell \u001b[0;32mIn[11], line 11\u001b[0m\n\u001b[1;32m      9\u001b[0m     \u001b[39melse\u001b[39;00m:\n\u001b[1;32m     10\u001b[0m         encryptedValueByAuctioneer \u001b[39m=\u001b[39m publicKeyAuc\u001b[39m.\u001b[39mraw_encrypt(finalSubmittedDataFirstPhase[i][j] \u001b[39m*\u001b[39m auctioneerRandomNumber)\n\u001b[0;32m---> 11\u001b[0m         returnValue \u001b[39m=\u001b[39m everyBiddersRandomNumberMultiplication(encryptedValueByAuctioneer)\n\u001b[1;32m     12\u001b[0m         dataPerBidder\u001b[39m.\u001b[39mappend((privateKeyAuc\u001b[39m.\u001b[39mraw_decrypt(returnValue)\u001b[39m/\u001b[39m\u001b[39m/\u001b[39mauctioneerRandomNumber))\n\u001b[1;32m     13\u001b[0m finalDataOfSecondPhase\u001b[39m.\u001b[39mappend(dataPerBidder)\n",
      "Cell \u001b[0;32mIn[10], line 2\u001b[0m, in \u001b[0;36meveryBiddersRandomNumberMultiplication\u001b[0;34m(x)\u001b[0m\n\u001b[1;32m      1\u001b[0m \u001b[39mdef\u001b[39;00m \u001b[39meveryBiddersRandomNumberMultiplication\u001b[39m(x):\n\u001b[0;32m----> 2\u001b[0m     X \u001b[39m=\u001b[39m np\u001b[39m.\u001b[39;49mpower(x,productOfRandomNumbers)\n\u001b[1;32m      3\u001b[0m     \u001b[39mreturn\u001b[39;00m x\n",
      "\u001b[0;31mKeyboardInterrupt\u001b[0m: "
     ]
    }
   ],
   "source": [
    "finalDataOfSecondPhase = []\n",
    "auctioneerRandomNumber = rd.randint(2,2)\n",
    "print(auctioneerRandomNumber)\n",
    "for i in range(len(finalSubmittedDataFirstPhase)):\n",
    "    dataPerBidder = []\n",
    "    for j in range(numberOfBidders):\n",
    "        if finalSubmittedDataFirstPhase[i][j] == 0 :\n",
    "            dataPerBidder.append(0)\n",
    "        else:\n",
    "            encryptedValueByAuctioneer = publicKeyAuc.raw_encrypt(finalSubmittedDataFirstPhase[i][j] * auctioneerRandomNumber)\n",
    "            returnValue = everyBiddersRandomNumberMultiplication(encryptedValueByAuctioneer)\n",
    "            dataPerBidder.append((privateKeyAuc.raw_decrypt(returnValue)//auctioneerRandomNumber))\n",
    "    finalDataOfSecondPhase.append(dataPerBidder)\n",
    "i,j = 0,0\n"
   ]
  },
  {
   "cell_type": "code",
   "execution_count": null,
   "metadata": {},
   "outputs": [
    {
     "name": "stdout",
     "output_type": "stream",
     "text": [
      "[0, 269095500, 203847075, 124709850, 212672250, 143951625, 270108225, 77979825, 68431275, 45427950]\n",
      "[78934680, 0, 57656280, 35273040, 60152400, 40715400, 76397640, 22055880, 19355160, 12848880]\n",
      "[62513103, 60277020, 0, 27934834, 47638290, 32244965, 60503869, 17467373, 15328511, 10175798]\n",
      "[156303012, 150712080, 114168452, 0, 119111160, 80622860, 151279276, 43674092, 38326244, 25442792]\n",
      "[82233270, 79291800, 60065670, 36747060, 0, 42416850, 79590210, 22977570, 20163990, 13385820]\n",
      "[136274205, 131399700, 99538805, 60895990, 103848150, 0, 131894215, 38077655, 33415085, 22182530]\n",
      "[183673593, 177103620, 134160753, 82077054, 139968990, 94740915, 0, 51321963, 45037641, 29898138]\n",
      "[16635696, 16040640, 12151216, 7433888, 12677280, 8580880, 16101008, 0, 4079152, 2707936]\n",
      "[86679615, 83579100, 63313415, 38733970, 66054450, 44710325, 83893645, 24219965, 0, 14109590]\n",
      "[44216538, 42634920, 32297098, 19758764, 33695340, 22807390, 42795374, 12354958, 10842106, 0]\n"
     ]
    }
   ],
   "source": [
    "\n",
    "for i in range(len(finalDataOfSecondPhase)):\n",
    "    print(finalDataOfSecondPhase[i])\n",
    "i = 0"
   ]
  },
  {
   "cell_type": "code",
   "execution_count": 19,
   "metadata": {},
   "outputs": [
    {
     "name": "stdout",
     "output_type": "stream",
     "text": [
      "5115\n"
     ]
    }
   ],
   "source": [
    "d = publicKeyAuc.raw_encrypt(10)\n",
    "d = privateKeyAuc.raw_decrypt(d*pow(publicKeyAuc.g,5105))\n",
    "print(d)"
   ]
  }
 ],
 "metadata": {
  "kernelspec": {
   "display_name": "Python 3",
   "language": "python",
   "name": "python3"
  },
  "language_info": {
   "codemirror_mode": {
    "name": "ipython",
    "version": 3
   },
   "file_extension": ".py",
   "mimetype": "text/x-python",
   "name": "python",
   "nbconvert_exporter": "python",
   "pygments_lexer": "ipython3",
   "version": "3.10.6"
  },
  "orig_nbformat": 4
 },
 "nbformat": 4,
 "nbformat_minor": 2
}
