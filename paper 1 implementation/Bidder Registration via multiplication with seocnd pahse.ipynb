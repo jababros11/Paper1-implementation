{
 "cells": [
  {
   "cell_type": "code",
   "execution_count": 25,
   "metadata": {},
   "outputs": [],
   "source": [
    "# this part of the codes fetches requirements\n",
    "import hashlib\n",
    "from phe import paillier\n",
    "import random as rd\n",
    "import numpy as np"
   ]
  },
  {
   "cell_type": "code",
   "execution_count": 26,
   "metadata": {},
   "outputs": [],
   "source": [
    "listOfIDS = []\n",
    "dictionaryOfPublicKeys = {}\n",
    "dictionaryOfPrivateKeys = {}\n",
    "dictionaryOfRandomNumbers = {}\n",
    "dictionaryOfBids = {}\n",
    "finalSubmittedDataFirstPhase = [] #will be sused to stored the final resuklt of the two bidder for bid submission\n",
    "highestbidder = 0 \n",
    "numberOfBidders = 0 \n",
    "publicKeyAuc, privateKeyAuc = 0, 0\n",
    "finalDataOfSecondPhase = []\n",
    "productOfAllRandomNumbers = 1"
   ]
  },
  {
   "cell_type": "code",
   "execution_count": 27,
   "metadata": {},
   "outputs": [],
   "source": [
    "#  this part of the code creates unique BID for all participants\n",
    "def createBiddersAndKeys(n):\n",
    "  global numberOfBidders,dictionaryOfPublicKeys,dictionaryOfPrivateKeys,publicKeyAuc,privateKeyAuc\n",
    "  numberOfBidders = n\n",
    "  for i in range(0,numberOfBidders):\n",
    "    i = str(i)\n",
    "    listOfIDS.append(hashlib.sha256(i.encode('utf-8')).hexdigest())\n",
    "  i = 0\n",
    "  publicKeyAuc, privateKeyAuc = paillier.generate_paillier_keypair(n_length= 64)\n",
    "  for i in range(0, numberOfBidders):\n",
    "    x,y = paillier.generate_paillier_keypair(n_length= 128)\n",
    "    dictionaryOfPublicKeys[listOfIDS[i]],dictionaryOfPrivateKeys[listOfIDS[i]]  = x ,y\n",
    "  i = 0"
   ]
  },
  {
   "cell_type": "markdown",
   "metadata": {},
   "source": [
    "end of the Registration phase and start of Bid Submission Phase"
   ]
  },
  {
   "cell_type": "code",
   "execution_count": 28,
   "metadata": {},
   "outputs": [],
   "source": [
    "# this part of the code generate random number and distinct bid values for all bidders and Auctioneer\n",
    "def  createRandomNumberAndBids():\n",
    "    global dictionaryOfBids,dictionaryOfRandomNumbers\n",
    "    bids  = rd.sample(range(1, numberOfBidders+1 ), numberOfBidders)\n",
    "    for i in range(0,numberOfBidders):\n",
    "        r  = rd.randint(100,10000)\n",
    "        dictionaryOfRandomNumbers[listOfIDS[i]] =  r\n",
    "        dictionaryOfBids[listOfIDS[i]] = bids[i]\n",
    "    i = 0\n",
    "    print(dictionaryOfBids)\n",
    "    print(dictionaryOfRandomNumbers)\n"
   ]
  },
  {
   "cell_type": "code",
   "execution_count": 29,
   "metadata": {},
   "outputs": [],
   "source": [
    "# this PART OF THE CODE SIMULATES BIDDER GENERATING PRODUCT AND THAN SENDING TO NEXT BIDDER\n",
    "\n",
    "def initFirstPhase():\n",
    "    global finalSubmittedDataFirstPhase\n",
    "    for i in range(0,numberOfBidders):\n",
    "        id = listOfIDS[i]\n",
    "        dataPerBidder= []\n",
    "        encrytionOfBidAndRandomNumber = publicKeyAuc.raw_encrypt(dictionaryOfBids[id] * dictionaryOfRandomNumbers[id])\n",
    "        # this part of code is forwarding the encrytionOfBidAndRandomNumber to all other bidders and after multiplication of the random number of the next\n",
    "        # bidder it is sent to the Auctioneer immediately\n",
    "        for j in range(0,numberOfBidders):\n",
    "            if j != i:\n",
    "                idOfNextBidder = listOfIDS[j]\n",
    "                pubKeyNextBidder, priKeyNextBidder= dictionaryOfPublicKeys[idOfNextBidder],dictionaryOfPrivateKeys[idOfNextBidder]\n",
    "                e = pubKeyNextBidder.raw_encrypt(encrytionOfBidAndRandomNumber)\n",
    "                e = priKeyNextBidder.raw_decrypt(e)\n",
    "                encrytionOfBidAndBothRandomNumber = e ** dictionaryOfRandomNumbers[idOfNextBidder]\n",
    "                # this part of the code simulates the storing of the data of the bid summision to auctioneer data\n",
    "                dataPerBidder.append(privateKeyAuc.raw_decrypt(encrytionOfBidAndBothRandomNumber))\n",
    "            else:\n",
    "                dataPerBidder.append(0)\n",
    "        finalSubmittedDataFirstPhase.append(dataPerBidder)\n",
    "    print(finalSubmittedDataFirstPhase)\n",
    "    i,j = 0,0"
   ]
  },
  {
   "cell_type": "markdown",
   "metadata": {},
   "source": [
    "implementation of the second phase here auctioneer reforward each packet to every bidder to multiply their random number."
   ]
  },
  {
   "cell_type": "code",
   "execution_count": 30,
   "metadata": {},
   "outputs": [],
   "source": [
    "# #this function works as the intermediate steps where we are requesting each bidder to multiplyt his random number to the given ciphertext\n",
    "# def productOfRandomNumbers():\n",
    "#     global productOfAllRandomNumbers\n",
    "#     for k in range(numberOfBidders):\n",
    "#         productOfAllRandomNumbers = productOfAllRandomNumbers * dictionaryOfRandomNumbers[listOfIDS[k]]\n"
   ]
  },
  {
   "cell_type": "code",
   "execution_count": 31,
   "metadata": {},
   "outputs": [],
   "source": [
    "def everyBiddersRandomNumberMultiplication(encryptedAuctioneerRandomNumber):\n",
    "    global productOfAllRandomNumbers\n",
    "    print(\"////\")\n",
    "    output = encryptedAuctioneerRandomNumber\n",
    "    for i in range(numberOfBidders):     \n",
    "        print(\"zz\")\n",
    "        output  = pow(output,dictionaryOfBids[listOfIDS[i]])\n",
    "        print(output)\n",
    "    return output"
   ]
  },
  {
   "cell_type": "code",
   "execution_count": 32,
   "metadata": {},
   "outputs": [],
   "source": [
    "def initSecondPhase():\n",
    "    global finalDataOfSecondPhase\n",
    "    auctioneerRandomNumber = rd.randint(2,2)\n",
    "    print(auctioneerRandomNumber)\n",
    "    for i in range(len(finalSubmittedDataFirstPhase)):\n",
    "        dataPerBidder = []\n",
    "        for j in range(numberOfBidders):\n",
    "            if finalSubmittedDataFirstPhase[i][j] == 0 :\n",
    "                dataPerBidder.append(0)\n",
    "            else:\n",
    "                encryptedValueByAuctioneer = publicKeyAuc.raw_encrypt(auctioneerRandomNumber)\n",
    "                returnValue = everyBiddersRandomNumberMultiplication(encryptedValueByAuctioneer)\n",
    "                dataPerBidder.append((privateKeyAuc.raw_decrypt(returnValue)))\n",
    "        finalDataOfSecondPhase.append(dataPerBidder)\n",
    "    i,j = 0,0\n"
   ]
  },
  {
   "cell_type": "code",
   "execution_count": 33,
   "metadata": {},
   "outputs": [],
   "source": [
    "# def runSimulation():\n",
    "#     print(\"//\")\n",
    "#     createBiddersAndKeys(2)\n",
    "#     print(\"//\")\n",
    "#     createRandomNumberAndBids()\n",
    "#     print(\"//\")\n",
    "#     initFirstPhase()\n",
    "#     print(\"//\")\n",
    "#     initSecondPhase()\n",
    "#     print(\"//\")"
   ]
  },
  {
   "cell_type": "code",
   "execution_count": 34,
   "metadata": {},
   "outputs": [
    {
     "name": "stdout",
     "output_type": "stream",
     "text": [
      "{'5feceb66ffc86f38d952786c6d696c79c2dbc239dd4e91b46729d73a27fb57e9': 10, '6b86b273ff34fce19d6b804eff5a3f5747ada4eaa22f1d49c01e52ddb7875b4b': 7, 'd4735e3a265e16eee03f59718b9b5d03019c07d8b6c51f90da3a666eec13ab35': 8, '4e07408562bedb8b60ce05c1decfe3ad16b72230967de01f640b7e4729b49fce': 2, '4b227777d4dd1fc61c6f884f48641d02b4d121d3fd328cb08b5531fcacdabf8a': 4, 'ef2d127de37b942baad06145e54b0c619a1f22327b2ebbcfbec78f5564afe39d': 6, 'e7f6c011776e8db7cd330b54174fd76f7d0216b612387a5ffcfb81e6f0919683': 3, '7902699be42c8a8e46fbbb4501726517e86b22c56a189f7625a6da49081b2451': 9, '2c624232cdd221771294dfbb310aca000a0df6ac8b66b696d90ef06fdefb64a3': 1, '19581e27de7ced00ff1ce50b2047e7a567c76b1cbaebabe5ef03f7c3017bb5b7': 5}\n",
      "{'5feceb66ffc86f38d952786c6d696c79c2dbc239dd4e91b46729d73a27fb57e9': 7733, '6b86b273ff34fce19d6b804eff5a3f5747ada4eaa22f1d49c01e52ddb7875b4b': 8199, 'd4735e3a265e16eee03f59718b9b5d03019c07d8b6c51f90da3a666eec13ab35': 1031, '4e07408562bedb8b60ce05c1decfe3ad16b72230967de01f640b7e4729b49fce': 4528, '4b227777d4dd1fc61c6f884f48641d02b4d121d3fd328cb08b5531fcacdabf8a': 3616, 'ef2d127de37b942baad06145e54b0c619a1f22327b2ebbcfbec78f5564afe39d': 1918, 'e7f6c011776e8db7cd330b54174fd76f7d0216b612387a5ffcfb81e6f0919683': 6962, '7902699be42c8a8e46fbbb4501726517e86b22c56a189f7625a6da49081b2451': 6684, '2c624232cdd221771294dfbb310aca000a0df6ac8b66b696d90ef06fdefb64a3': 5411, '19581e27de7ced00ff1ce50b2047e7a567c76b1cbaebabe5ef03f7c3017bb5b7': 4134}\n"
     ]
    }
   ],
   "source": [
    "createBiddersAndKeys(10)\n",
    "createRandomNumberAndBids()\n",
    "\n"
   ]
  },
  {
   "cell_type": "code",
   "execution_count": 35,
   "metadata": {},
   "outputs": [
    {
     "name": "stdout",
     "output_type": "stream",
     "text": [
      "[[0, 634028670, 79727230, 350150240, 279625280, 148318940, 538371460, 516873720, 418432630, 319682220], [443820069, 0, 59172183, 259875504, 207533088, 110079774, 399570066, 383614812, 310553523, 237262662], [63781784, 67625352, 0, 37346944, 29824768, 15819664, 57422576, 55129632, 44629928, 34097232], [70030048, 74250144, 9336736, 0, 32746496, 17369408, 63047872, 60530304, 49002016, 37437504], [7214257414722575426, 118590336, 14912384, 65492992, 0, 27741952, 13509088809459155, 96677376, 6325096132513338107, 13294548823094127531], [88991364, 94354092, 11864748, 52108224, 41612928, 0, 80118696, 76919472, 62269788, 47574072], [161511438, 171244314, 21533466, 94571808, 75523776, 40059348, 0, 139602024, 113014146, 86342724], [465186348, 493219044, 62020836, 272386368, 217524096, 115379208, 418806072, 0, 325504116, 248684904], [41843263, 44364789, 5578741, 24501008, 19566176, 10378298, 37671382, 36167124, 0, 22369074], [159841110, 169473330, 21310770, 93593760, 74742720, 39645060, 143904540, 138158280, 111845370, 0]]\n"
     ]
    }
   ],
   "source": [
    "initFirstPhase()"
   ]
  },
  {
   "cell_type": "code",
   "execution_count": 36,
   "metadata": {},
   "outputs": [],
   "source": [
    "initSecondPhase()"
   ]
  },
  {
   "cell_type": "code",
   "execution_count": null,
   "metadata": {},
   "outputs": [],
   "source": [
    "random = publicKeyAuc.raw_encrypt(2)\n",
    "output = 1\n",
    "for i in range(10):\n",
    "    output  = pow(output,dictionaryOfBids[listOfIDS[i]])\n",
    "print(privateKeyAuc.raw_decrypt(output))   "
   ]
  },
  {
   "cell_type": "code",
   "execution_count": null,
   "metadata": {},
   "outputs": [],
   "source": [
    "\n",
    "for i in range(len(finalDataOfSecondPhase)):\n",
    "    print(finalDataOfSecondPhase[i])\n",
    "i = 0"
   ]
  },
  {
   "cell_type": "code",
   "execution_count": null,
   "metadata": {},
   "outputs": [
    {
     "name": "stdout",
     "output_type": "stream",
     "text": [
      "[0, 50947920, 77521920, 94850640, 158751840, 126961920, 179096400, 208488480, 231651120, 129903600]\n",
      "[25473960, 0, 32316480, 39540285, 66178710, 52926480, 74659725, 86912370, 96568155, 54152775]\n",
      "[46513152, 38779776, 0, 72196992, 120836352, 96638976, 136321920, 158694144, 176324736, 98878080]\n",
      "[9485064, 7908057, 12032832, 0, 24641214, 19706832, 27799065, 32361258, 35956527, 20163435]\n",
      "[47625552, 39707226, 60418176, 73923642, 0, 98950176, 139582170, 162489444, 180541686, 101242830]\n",
      "[50784768, 42341184, 64425984, 78827328, 131933568, 0, 148841280, 173268096, 192517824, 107958720]\n",
      "[143277120, 119455560, 181762560, 222392520, 372219120, 297682560, 0, 488834640, 543143160, 304579800]\n",
      "[145941936, 121677318, 185143168, 226528806, 379142036, 303219168, 427730310, 0, 553245098, 310244690]\n",
      "[46330224, 38627262, 58774912, 71913054, 120361124, 96258912, 135785790, 158070028, 0, 98489210]\n",
      "[116913240, 97474995, 148317120, 181470915, 303728490, 242907120, 342652275, 398886030, 443201445, 0]\n"
     ]
    }
   ],
   "source": [
    "for i in range(len(finalSubmittedDataFirstPhase)):\n",
    "    print(finalSubmittedDataFirstPhase[i])\n",
    "i = 0"
   ]
  }
 ],
 "metadata": {
  "kernelspec": {
   "display_name": "Python 3",
   "language": "python",
   "name": "python3"
  },
  "language_info": {
   "codemirror_mode": {
    "name": "ipython",
    "version": 3
   },
   "file_extension": ".py",
   "mimetype": "text/x-python",
   "name": "python",
   "nbconvert_exporter": "python",
   "pygments_lexer": "ipython3",
   "version": "3.10.6"
  },
  "orig_nbformat": 4
 },
 "nbformat": 4,
 "nbformat_minor": 2
}
