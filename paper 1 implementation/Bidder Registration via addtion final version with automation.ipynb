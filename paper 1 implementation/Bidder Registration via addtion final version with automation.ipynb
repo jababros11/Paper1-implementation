{
 "cells": [
  {
   "cell_type": "code",
   "execution_count": 31,
   "metadata": {},
   "outputs": [],
   "source": [
    "# this part of the codes fetches requirements\n",
    "import hashlib\n",
    "from phe import paillier\n",
    "import random as rd\n",
    "from timeit import default_timer as timer\n",
    "# import numpy as np"
   ]
  },
  {
   "cell_type": "code",
   "execution_count": 32,
   "metadata": {},
   "outputs": [],
   "source": [
    "listOfIDS = []\n",
    "dictionaryOfPublicKeys = {}\n",
    "dictionaryOfPrivateKeys = {}\n",
    "dictionaryOfRandomNumbers = {}\n",
    "dictionaryOfBids = {}\n",
    "finalSubmittedDataFirstPhase = [] #will be sused to stored the final resuklt of the two bidder for bid submission\n",
    "highestbidder = 0 \n",
    "numberOfBidders = 0 \n",
    "publicKeyAuc, privateKeyAuc = 0, 0"
   ]
  },
  {
   "cell_type": "code",
   "execution_count": 33,
   "metadata": {},
   "outputs": [],
   "source": [
    "#  this part of the code creates unique BID for all participants by the centeral authority\n",
    "def createBidderAndKeys(n):\n",
    "      global numberOfBidders,dictionaryOfPublicKeys,dictionaryOfPrivateKeys,publicKeyAuc,privateKeyAuc\n",
    "      numberOfBidders = n\n",
    "      for i in range(0,numberOfBidders):\n",
    "        i = str(i)\n",
    "        listOfIDS.append(hashlib.sha256(i.encode('utf-8')).hexdigest())\n",
    "      i = 0\n",
    "      #this part creates the key pairs for all participants\n",
    "      publicKeyAuc, privateKeyAuc = paillier.generate_paillier_keypair(n_length= 128)\n",
    "      for i in range(0, numberOfBidders):\n",
    "         x,y = paillier.generate_paillier_keypair(n_length=256)\n",
    "         dictionaryOfPublicKeys[listOfIDS[i]],dictionaryOfPrivateKeys[listOfIDS[i]]  = x ,y\n",
    "      i = 0"
   ]
  },
  {
   "cell_type": "markdown",
   "metadata": {},
   "source": [
    "end of the Registration phase and start of Bid Submission Phase"
   ]
  },
  {
   "cell_type": "code",
   "execution_count": 34,
   "metadata": {},
   "outputs": [],
   "source": [
    "# this part of the code generate random number and distinct bid values for all bidders and Auctioneer\n",
    "def  createRandomNumberAndBids():\n",
    "    global dictionaryOfBids,dictionaryOfRandomNumbers\n",
    "    bids  = rd.sample(range(1, numberOfBidders * 10 ), numberOfBidders)\n",
    "    for i in range(0,numberOfBidders):\n",
    "        r  = rd.randint(1,2000)\n",
    "        dictionaryOfRandomNumbers[listOfIDS[i]] =  r\n",
    "        dictionaryOfBids[listOfIDS[i]] = bids[i]\n",
    "    i = 0\n",
    "    # print(dictionaryOfBids)\n",
    "    # print(dictionaryOfRandomNumbers)\n"
   ]
  },
  {
   "cell_type": "code",
   "execution_count": 35,
   "metadata": {},
   "outputs": [],
   "source": [
    "# this PART OF THE CODE SIMULATES BIDDER GENERATING PRODUCT AND THAN SENDING TO NEXT BIDDER\n",
    "def initFirstPhase():\n",
    "    global finalSubmittedDataFirstPhase\n",
    "    for i in range(0,numberOfBidders):\n",
    "        id = listOfIDS[i]\n",
    "        dataPerBidder= []\n",
    "        # print(dictionaryOfBids[id] * dictionaryOfRandomNumbers[id])\n",
    "        encrytionOfBidAndRandomNumber = publicKeyAuc.raw_encrypt(dictionaryOfBids[id] + dictionaryOfRandomNumbers[id])\n",
    "        # this part of code is forwarding the encrytionOfBidAndRandomNumber to all other bidders and after addition of the random number of the next bidder it is sent to the Auctioneer immediately\n",
    "        for j in range(0,numberOfBidders):\n",
    "            if j != i:\n",
    "                idOfNextBidder = listOfIDS[j]\n",
    "                pubKeyNextBidder, priKeyNextBidder= dictionaryOfPublicKeys[idOfNextBidder],dictionaryOfPrivateKeys[idOfNextBidder]\n",
    "                e = pubKeyNextBidder.raw_encrypt(encrytionOfBidAndRandomNumber)\n",
    "                e = priKeyNextBidder.raw_decrypt(e)\n",
    "                encrytionOfBidAndBothRandomNumber = e * pow(publicKeyAuc.g,dictionaryOfRandomNumbers[idOfNextBidder])\n",
    "                # this part of the code simulates the storing of the data of the bid summision to auctioneer data\n",
    "                dataPerBidder.append(privateKeyAuc.raw_decrypt(encrytionOfBidAndBothRandomNumber))\n",
    "            else:\n",
    "                dataPerBidder.append(0)\n",
    "        finalSubmittedDataFirstPhase.append(dataPerBidder)\n",
    "    i,j = 0,0"
   ]
  },
  {
   "cell_type": "markdown",
   "metadata": {},
   "source": [
    "here before declaring the winner auctioneer verifies if the bid inforamtion submitted by each bidder is correct or not"
   ]
  },
  {
   "cell_type": "code",
   "execution_count": 36,
   "metadata": {},
   "outputs": [],
   "source": [
    "#this part of the code checks if all the entered values for SMPC are correct or not\n",
    "# this works for a step of one\n",
    "def verifyTheData():\n",
    "    # for i in range(numberOfBidders):\n",
    "    #     sum = 0\n",
    "    #     for j in range(numberOfBidders):\n",
    "    #         if j + i < numberOfBidders:\n",
    "    #             sum = sum + finalSubmittedDataFirstPhase[j][j+i]\n",
    "    #         else:\n",
    "    #             sum = sum + finalSubmittedDataFirstPhase[j][(j+i)% numberOfBidders]\n",
    "    #     # print(sum) \n",
    "    # .........................................................................#...........................................  \n",
    "    # this works for any random step that has been taken in range (1,numberOfBidders) \n",
    "    k = rd.randint(1,9)\n",
    "    print(k)\n",
    "    for i in range(numberOfBidders-1):\n",
    "        sum = 0\n",
    "        for j in range(numberOfBidders):\n",
    "            if j + k < numberOfBidders:\n",
    "                sum = sum + finalSubmittedDataFirstPhase[j][j+k]\n",
    "            else:\n",
    "                #we took the mod so that the next bidder value should come to the range from the number of the bidders\n",
    "                sum = sum + finalSubmittedDataFirstPhase[j][(j+k)% numberOfBidders]\n",
    "        # print(sum)  \n",
    "    i,j = 0,0"
   ]
  },
  {
   "cell_type": "code",
   "execution_count": 37,
   "metadata": {},
   "outputs": [],
   "source": [
    "# this function chjoosews the best buyer based on the comparison it works as the auctrioneer is comparing each pair\n",
    "\n",
    "def chooseBestBuyer():\n",
    "    global highestbidder\n",
    "    for i in range(0,numberOfBidders):\n",
    "        highestbidder = i\n",
    "        for j in range(0,numberOfBidders):\n",
    "            if i != j:\n",
    "                if finalSubmittedDataFirstPhase[i][j] < finalSubmittedDataFirstPhase[j][i]:\n",
    "                    highestbidder  = j\n",
    "                    i = j\n",
    "            else:\n",
    "                continue\n",
    "    i = 0"
   ]
  },
  {
   "cell_type": "markdown",
   "metadata": {},
   "source": [
    "the following code starts the simulation of the auction\n"
   ]
  },
  {
   "cell_type": "code",
   "execution_count": 38,
   "metadata": {},
   "outputs": [],
   "source": [
    "def runTheSimulation(m):\n",
    "    createBidderAndKeys(m)\n",
    "    createRandomNumberAndBids()\n",
    "    initFirstPhase()\n",
    "    verifyTheData()\n",
    "    chooseBestBuyer()\n",
    "\n",
    "\n",
    "\n",
    "\n",
    "# runTheSimulation(20)\n",
    "# for i in range(len(finalSubmittedDataFirstPhase)):\n",
    "#     print(finalSubmittedDataFirstPhase[i])\n",
    "# i = 0\n",
    "# print(highestbidder)\n",
    "# dictionaryOfBids"
   ]
  },
  {
   "cell_type": "code",
   "execution_count": 39,
   "metadata": {},
   "outputs": [
    {
     "name": "stdout",
     "output_type": "stream",
     "text": [
      "1\n",
      "5.780679078998219\n"
     ]
    }
   ],
   "source": [
    "Bidders = [10,20,50,70,100,300,500]\n",
    "timeConsumed = []\n",
    "for h in range(1):\n",
    "    start =  timer()\n",
    "    runTheSimulation(70)\n",
    "    end  = timer()\n",
    "    print(end - start)\n",
    "    \n",
    "\n",
    "\n",
    "\n"
   ]
  }
 ],
 "metadata": {
  "kernelspec": {
   "display_name": "Python 3",
   "language": "python",
   "name": "python3"
  },
  "language_info": {
   "codemirror_mode": {
    "name": "ipython",
    "version": 3
   },
   "file_extension": ".py",
   "mimetype": "text/x-python",
   "name": "python",
   "nbconvert_exporter": "python",
   "pygments_lexer": "ipython3",
   "version": "3.10.6"
  },
  "orig_nbformat": 4
 },
 "nbformat": 4,
 "nbformat_minor": 2
}
