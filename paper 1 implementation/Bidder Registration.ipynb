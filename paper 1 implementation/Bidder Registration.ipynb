{
 "cells": [
  {
   "cell_type": "code",
   "execution_count": 160,
   "metadata": {},
   "outputs": [],
   "source": [
    "# this part of the codes fetches requirements\n",
    "import hashlib\n",
    "from phe import paillier\n",
    "import random as rd\n",
    "import numpy as np"
   ]
  },
  {
   "cell_type": "code",
   "execution_count": 161,
   "metadata": {},
   "outputs": [],
   "source": [
    "listOfIDS = []\n",
    "dictionaryOfPublicKeys = {}\n",
    "dictionaryOfPrivateKeys = {}\n",
    "dictionaryOfRandomNumbers = {}\n",
    "dictionaryOfBids = {}\n",
    "finalSubmittedDataFirstPhase = [] #will be sused to stored the final resuklt of the two bidder for bid submission\n",
    "highestbidder = 0 \n",
    "numberOfBidders = 0 \n",
    "publicKeyAuc, privateKeyAuc = 0, 0\n",
    "finalDataOfSecondPhase = []\n",
    "productOfAllRandomNumbers = 1"
   ]
  },
  {
   "cell_type": "code",
   "execution_count": 162,
   "metadata": {},
   "outputs": [],
   "source": [
    "#  this part of the code creates unique BID for all participants\n",
    "def createBiddersAndKeys(n):\n",
    "  global numberOfBidders,dictionaryOfPublicKeys,dictionaryOfPrivateKeys,publicKeyAuc,privateKeyAuc\n",
    "  numberOfBidders = n\n",
    "  for i in range(0,numberOfBidders):\n",
    "    i = str(i)\n",
    "    listOfIDS.append(hashlib.sha256(i.encode('utf-8')).hexdigest())\n",
    "  i = 0\n",
    "  publicKeyAuc, privateKeyAuc = paillier.generate_paillier_keypair(n_length= 64)\n",
    "  for i in range(0, numberOfBidders):\n",
    "    x,y = paillier.generate_paillier_keypair(n_length= 128)\n",
    "    dictionaryOfPublicKeys[listOfIDS[i]],dictionaryOfPrivateKeys[listOfIDS[i]]  = x ,y\n",
    "  i = 0"
   ]
  },
  {
   "cell_type": "markdown",
   "metadata": {},
   "source": [
    "end of the Registration phase and start of Bid Submission Phase"
   ]
  },
  {
   "cell_type": "code",
   "execution_count": 163,
   "metadata": {},
   "outputs": [],
   "source": [
    "# this part of the code generate random number and distinct bid values for all bidders and Auctioneer\n",
    "def  createRandomNumberAndBids():\n",
    "    global dictionaryOfBids,dictionaryOfRandomNumbers\n",
    "    bids  = rd.sample(range(1, numberOfBidders+1 ), numberOfBidders)\n",
    "    for i in range(0,numberOfBidders):\n",
    "        r  = rd.randint(100,10000)\n",
    "        dictionaryOfRandomNumbers[listOfIDS[i]] =  r\n",
    "        dictionaryOfBids[listOfIDS[i]] = bids[i]\n",
    "    i = 0\n",
    "    print(dictionaryOfBids)\n",
    "    print(dictionaryOfRandomNumbers)\n"
   ]
  },
  {
   "cell_type": "code",
   "execution_count": 164,
   "metadata": {},
   "outputs": [],
   "source": [
    "# this PART OF THE CODE SIMULATES BIDDER GENERATING PRODUCT AND THAN SENDING TO NEXT BIDDER\n",
    "\n",
    "def initFirstPhase():\n",
    "    global finalSubmittedDataFirstPhase\n",
    "    for i in range(0,numberOfBidders):\n",
    "        id = listOfIDS[i]\n",
    "        dataPerBidder= []\n",
    "        # print(dictionaryOfBids[id] * dictionaryOfRandomNumbers[id])\n",
    "        encrytionOfBidAndRandomNumber = publicKeyAuc.raw_encrypt(dictionaryOfBids[id] * dictionaryOfRandomNumbers[id])\n",
    "        # this part of code is forwarding the encrytionOfBidAndRandomNumber to all other bidders and after multiplication of the random number of the next\n",
    "        # bidder it is sent to the Auctioneer immediately\n",
    "        for j in range(0,numberOfBidders):\n",
    "            if j != i:\n",
    "                idOfNextBidder = listOfIDS[j]\n",
    "                pubKeyNextBidder, priKeyNextBidder= dictionaryOfPublicKeys[idOfNextBidder],dictionaryOfPrivateKeys[idOfNextBidder]\n",
    "                e = pubKeyNextBidder.raw_encrypt(encrytionOfBidAndRandomNumber)\n",
    "                e = priKeyNextBidder.raw_decrypt(e)\n",
    "                encrytionOfBidAndBothRandomNumber = e ** dictionaryOfRandomNumbers[idOfNextBidder]\n",
    "                # this part of the code simulates the storing of the data of the bid summision to auctioneer data\n",
    "                dataPerBidder.append(privateKeyAuc.raw_decrypt(encrytionOfBidAndBothRandomNumber))\n",
    "            else:\n",
    "                dataPerBidder.append(0)\n",
    "        finalSubmittedDataFirstPhase.append(dataPerBidder)\n",
    "    print(finalSubmittedDataFirstPhase)\n",
    "    i,j = 0,0"
   ]
  },
  {
   "cell_type": "markdown",
   "metadata": {},
   "source": [
    "implementation of the second phase here auctioneer reforward each packet to every bidder to multiply their random number."
   ]
  },
  {
   "cell_type": "code",
   "execution_count": 165,
   "metadata": {},
   "outputs": [],
   "source": [
    "# #this function works as the intermediate steps where we are requesting each bidder to multiplyt his random number to the given ciphertext\n",
    "# def productOfRandomNumbers():\n",
    "#     global productOfAllRandomNumbers\n",
    "#     for k in range(numberOfBidders):\n",
    "#         productOfAllRandomNumbers = productOfAllRandomNumbers * dictionaryOfRandomNumbers[listOfIDS[k]]\n"
   ]
  },
  {
   "cell_type": "code",
   "execution_count": 166,
   "metadata": {},
   "outputs": [],
   "source": [
    "def everyBiddersRandomNumberMultiplication(encryptedAuctioneerRandomNumber):\n",
    "    global productOfAllRandomNumbers\n",
    "    print(\"////\")\n",
    "    for i in range(numberOfBidders):     \n",
    "        temp = pow(encryptedAuctioneerRandomNumber,dictionaryOfBids[listOfIDS[i]])\n",
    "        productOfAllRandomNumbers = temp * productOfAllRandomNumbers\n",
    "        encryptedAuctioneerRandomNumber = productOfAllRandomNumbers \n",
    "        \n",
    "    return productOfAllRandomNumbers"
   ]
  },
  {
   "cell_type": "code",
   "execution_count": 167,
   "metadata": {},
   "outputs": [],
   "source": [
    "def initSecondPhase():\n",
    "    global finalDataOfSecondPhase\n",
    "    auctioneerRandomNumber = rd.randint(2,2)\n",
    "    print(auctioneerRandomNumber)\n",
    "    for i in range(len(finalSubmittedDataFirstPhase)):\n",
    "        dataPerBidder = []\n",
    "        for j in range(numberOfBidders):\n",
    "            if finalSubmittedDataFirstPhase[i][j] == 0 :\n",
    "                dataPerBidder.append(0)\n",
    "            else:\n",
    "                encryptedValueByAuctioneer = publicKeyAuc.raw_encrypt(auctioneerRandomNumber)\n",
    "                returnValue = everyBiddersRandomNumberMultiplication(encryptedValueByAuctioneer)\n",
    "                dataPerBidder.append((privateKeyAuc.raw_decrypt(returnValue)))\n",
    "        finalDataOfSecondPhase.append(dataPerBidder)\n",
    "    i,j = 0,0\n"
   ]
  },
  {
   "cell_type": "code",
   "execution_count": 168,
   "metadata": {},
   "outputs": [],
   "source": [
    "# def runSimulation():\n",
    "#     print(\"//\")\n",
    "#     createBiddersAndKeys(2)\n",
    "#     print(\"//\")\n",
    "#     createRandomNumberAndBids()\n",
    "#     print(\"//\")\n",
    "#     initFirstPhase()\n",
    "#     print(\"//\")\n",
    "#     initSecondPhase()\n",
    "#     print(\"//\")"
   ]
  },
  {
   "cell_type": "code",
   "execution_count": 169,
   "metadata": {},
   "outputs": [
    {
     "name": "stdout",
     "output_type": "stream",
     "text": [
      "{'5feceb66ffc86f38d952786c6d696c79c2dbc239dd4e91b46729d73a27fb57e9': 2, '6b86b273ff34fce19d6b804eff5a3f5747ada4eaa22f1d49c01e52ddb7875b4b': 9, 'd4735e3a265e16eee03f59718b9b5d03019c07d8b6c51f90da3a666eec13ab35': 4, '4e07408562bedb8b60ce05c1decfe3ad16b72230967de01f640b7e4729b49fce': 1, '4b227777d4dd1fc61c6f884f48641d02b4d121d3fd328cb08b5531fcacdabf8a': 3, 'ef2d127de37b942baad06145e54b0c619a1f22327b2ebbcfbec78f5564afe39d': 5, 'e7f6c011776e8db7cd330b54174fd76f7d0216b612387a5ffcfb81e6f0919683': 6, '7902699be42c8a8e46fbbb4501726517e86b22c56a189f7625a6da49081b2451': 8, '2c624232cdd221771294dfbb310aca000a0df6ac8b66b696d90ef06fdefb64a3': 7, '19581e27de7ced00ff1ce50b2047e7a567c76b1cbaebabe5ef03f7c3017bb5b7': 10}\n",
      "{'5feceb66ffc86f38d952786c6d696c79c2dbc239dd4e91b46729d73a27fb57e9': 7815, '6b86b273ff34fce19d6b804eff5a3f5747ada4eaa22f1d49c01e52ddb7875b4b': 3026, 'd4735e3a265e16eee03f59718b9b5d03019c07d8b6c51f90da3a666eec13ab35': 3403, '4e07408562bedb8b60ce05c1decfe3ad16b72230967de01f640b7e4729b49fce': 7517, '4b227777d4dd1fc61c6f884f48641d02b4d121d3fd328cb08b5531fcacdabf8a': 5197, 'ef2d127de37b942baad06145e54b0c619a1f22327b2ebbcfbec78f5564afe39d': 1039, 'e7f6c011776e8db7cd330b54174fd76f7d0216b612387a5ffcfb81e6f0919683': 4536, '7902699be42c8a8e46fbbb4501726517e86b22c56a189f7625a6da49081b2451': 7573, '2c624232cdd221771294dfbb310aca000a0df6ac8b66b696d90ef06fdefb64a3': 9281, '19581e27de7ced00ff1ce50b2047e7a567c76b1cbaebabe5ef03f7c3017bb5b7': 4150}\n"
     ]
    }
   ],
   "source": [
    "createBiddersAndKeys(10)\n",
    "createRandomNumberAndBids()\n",
    "\n"
   ]
  },
  {
   "cell_type": "code",
   "execution_count": 170,
   "metadata": {},
   "outputs": [
    {
     "name": "stdout",
     "output_type": "stream",
     "text": [
      "[[0, 47296380, 53188890, 117490710, 81229110, 16239570, 70897680, 118365990, 145062030, 64864500], [212833710, 0, 92677302, 204717978, 141535098, 28296126, 123533424, 206243082, 252758754, 113021100], [106377780, 41189912, 0, 102321404, 70741564, 14142868, 61744032, 103083676, 126332972, 56489800], [58745355, 22746442, 25580351, 0, 39065849, 7810163, 34097112, 56926241, 69765277, 31195550], [121843665, 47178366, 53056173, 117197547, 0, 16199049, 70720776, 118070643, 144700071, 64702650], [40598925, 15720070, 17678585, 39050815, 26998415, 0, 23564520, 39341735, 48214795, 21559250], [212693040, 82355616, 92616048, 204582672, 141441552, 28277424, 0, 206106768, 252591696, 112946400], [473463960, 183327184, 206167352, 455409928, 314855048, 62946776, 274809024, 0, 562280104, 251423600], [507717105, 196590142, 221082701, 488356939, 337633499, 67500713, 294690312, 491995091, 0, 269613050], [324322500, 125579000, 141224500, 311955500, 215675500, 43118500, 188244000, 314279500, 385161500, 0]]\n"
     ]
    }
   ],
   "source": [
    "initFirstPhase()"
   ]
  },
  {
   "cell_type": "code",
   "execution_count": 171,
   "metadata": {},
   "outputs": [],
   "source": [
    "# initSecondPhase()"
   ]
  },
  {
   "cell_type": "code",
   "execution_count": 172,
   "metadata": {},
   "outputs": [
    {
     "name": "stdout",
     "output_type": "stream",
     "text": [
      "0\n"
     ]
    }
   ],
   "source": [
    "random = publicKeyAuc.raw_encrypt(2)\n",
    "output = 1\n",
    "for i in range(5):\n",
    "    output  = pow(output,dictionaryOfBids[listOfIDS[i]])\n",
    "print(privateKeyAuc.raw_decrypt(output))   "
   ]
  },
  {
   "cell_type": "code",
   "execution_count": 173,
   "metadata": {},
   "outputs": [],
   "source": [
    "\n",
    "for i in range(len(finalDataOfSecondPhase)):\n",
    "    print(finalDataOfSecondPhase[i])\n",
    "i = 0"
   ]
  },
  {
   "cell_type": "code",
   "execution_count": 174,
   "metadata": {},
   "outputs": [
    {
     "name": "stdout",
     "output_type": "stream",
     "text": [
      "[0, 47296380, 53188890, 117490710, 81229110, 16239570, 70897680, 118365990, 145062030, 64864500]\n",
      "[212833710, 0, 92677302, 204717978, 141535098, 28296126, 123533424, 206243082, 252758754, 113021100]\n",
      "[106377780, 41189912, 0, 102321404, 70741564, 14142868, 61744032, 103083676, 126332972, 56489800]\n",
      "[58745355, 22746442, 25580351, 0, 39065849, 7810163, 34097112, 56926241, 69765277, 31195550]\n",
      "[121843665, 47178366, 53056173, 117197547, 0, 16199049, 70720776, 118070643, 144700071, 64702650]\n",
      "[40598925, 15720070, 17678585, 39050815, 26998415, 0, 23564520, 39341735, 48214795, 21559250]\n",
      "[212693040, 82355616, 92616048, 204582672, 141441552, 28277424, 0, 206106768, 252591696, 112946400]\n",
      "[473463960, 183327184, 206167352, 455409928, 314855048, 62946776, 274809024, 0, 562280104, 251423600]\n",
      "[507717105, 196590142, 221082701, 488356939, 337633499, 67500713, 294690312, 491995091, 0, 269613050]\n",
      "[324322500, 125579000, 141224500, 311955500, 215675500, 43118500, 188244000, 314279500, 385161500, 0]\n"
     ]
    }
   ],
   "source": [
    "for i in range(len(finalSubmittedDataFirstPhase)):\n",
    "    print(finalSubmittedDataFirstPhase[i])\n",
    "i = 0"
   ]
  }
 ],
 "metadata": {
  "kernelspec": {
   "display_name": "Python 3",
   "language": "python",
   "name": "python3"
  },
  "language_info": {
   "codemirror_mode": {
    "name": "ipython",
    "version": 3
   },
   "file_extension": ".py",
   "mimetype": "text/x-python",
   "name": "python",
   "nbconvert_exporter": "python",
   "pygments_lexer": "ipython3",
   "version": "3.10.6"
  },
  "orig_nbformat": 4
 },
 "nbformat": 4,
 "nbformat_minor": 2
}
