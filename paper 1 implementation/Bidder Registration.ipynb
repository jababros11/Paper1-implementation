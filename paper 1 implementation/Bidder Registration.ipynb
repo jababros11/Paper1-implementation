{
 "cells": [
  {
   "cell_type": "code",
   "execution_count": null,
   "metadata": {},
   "outputs": [],
   "source": [
    "# this part of the codes fetches requirements\n",
    "import hashlib\n",
    "from phe import paillier\n",
    "import random as rd\n",
    "import numpy as np"
   ]
  },
  {
   "cell_type": "code",
   "execution_count": null,
   "metadata": {},
   "outputs": [],
   "source": [
    "listOfIDS = []\n",
    "dictionaryOfPublicKeys = {}\n",
    "dictionaryOfPrivateKeys = {}\n",
    "dictionaryOfRandomNumbers = {}\n",
    "dictionaryOfBids = {}\n",
    "finalSubmittedDataFirstPhase = [] #will be sused to stored the final resuklt of the two bidder for bid submission\n",
    "highestbidder = 0 \n",
    "numberOfBidders = 0 \n",
    "publicKeyAuc, privateKeyAuc = 0, 0"
   ]
  },
  {
   "cell_type": "code",
   "execution_count": null,
   "metadata": {},
   "outputs": [],
   "source": [
    "#  this part of the code creates unique BID for all participants\n",
    "def createBiddersAndKeys(n):\n",
    "  global numberOfBidders,dictionaryOfPublicKeys,dictionaryOfPrivateKeys,publicKeyAuc,privateKeyAuc\n",
    "  numberOfBidders = n\n",
    "  for i in range(0,numberOfBidders):\n",
    "    i = str(i)\n",
    "    listOfIDS.append(hashlib.sha256(i.encode('utf-8')).hexdigest())\n",
    "  i = 0\n",
    "  publicKeyAuc, privateKeyAuc = paillier.generate_paillier_keypair(n_length= 32)\n",
    "  for i in range(0, numberOfBidders):\n",
    "    x,y = paillier.generate_paillier_keypair(n_length=64)\n",
    "    dictionaryOfPublicKeys[listOfIDS[i]],dictionaryOfPrivateKeys[listOfIDS[i]]  = x ,y\n",
    "  i = 0"
   ]
  },
  {
   "cell_type": "markdown",
   "metadata": {},
   "source": [
    "end of the Registration phase and start of Bid Submission Phase"
   ]
  },
  {
   "cell_type": "code",
   "execution_count": null,
   "metadata": {},
   "outputs": [],
   "source": [
    "# this part of the code generate random number and distinct bid values for all bidders and Auctioneer\n",
    "def  createRandomNumberAndBids():\n",
    "    global dictionaryOfBids,dictionaryOfRandomNumbers\n",
    "    bids  = rd.sample(range(1, numberOfBidders+1 ), numberOfBidders)\n",
    "    for i in range(0,numberOfBidders):\n",
    "        r  = rd.randint(100,10000)\n",
    "        dictionaryOfRandomNumbers[listOfIDS[i]] =  r\n",
    "        dictionaryOfBids[listOfIDS[i]] = bids[i]\n",
    "    i = 0\n",
    "    print(dictionaryOfBids)\n",
    "    print(dictionaryOfRandomNumbers)\n"
   ]
  },
  {
   "cell_type": "code",
   "execution_count": null,
   "metadata": {},
   "outputs": [],
   "source": [
    "# this PART OF THE CODE SIMULATES BIDDER GENERATING PRODUCT AND THAN SENDING TO NEXT BIDDER\n",
    "\n",
    "def initFirstPhase():\n",
    "    global finalSubmittedDataFirstPhasefor i in range(0,numberOfBidders):\n",
    "    id = listOfIDS[i]\n",
    "    dataPerBidder= []\n",
    "    # print(dictionaryOfBids[id] * dictionaryOfRandomNumbers[id])\n",
    "    encrytionOfBidAndRandomNumber = publicKeyAuc.raw_encrypt(dictionaryOfBids[id] * dictionaryOfRandomNumbers[id])\n",
    "    # this part of code is forwarding the encrytionOfBidAndRandomNumber to all other bidders and after multiplication of the random number of the next\n",
    "    # bidder it is sent to the Auctioneer immediately\n",
    "    for j in range(0,numberOfBidders):\n",
    "        if j != i:\n",
    "            idOfNextBidder = listOfIDS[j]\n",
    "            pubKeyNextBidder, priKeyNextBidder= dictionaryOfPublicKeys[idOfNextBidder],dictionaryOfPrivateKeys[idOfNextBidder]\n",
    "            e = pubKeyNextBidder.raw_encrypt(encrytionOfBidAndRandomNumber)\n",
    "            e = priKeyNextBidder.raw_decrypt(e)\n",
    "            encrytionOfBidAndBothRandomNumber = e ** dictionaryOfRandomNumbers[idOfNextBidder]\n",
    "            # this part of the code simulates the storing of the data of the bid summision to auctioneer data\n",
    "            dataPerBidder.append(privateKeyAuc.raw_decrypt(encrytionOfBidAndBothRandomNumber))\n",
    "        else:\n",
    "            dataPerBidder.append(0)\n",
    "    finalSubmittedDataFirstPhase.append(dataPerBidder)\n",
    "    i,j = 0,0"
   ]
  },
  {
   "cell_type": "code",
   "execution_count": null,
   "metadata": {},
   "outputs": [],
   "source": [
    "for i in range(len(finalSubmittedDataFirstPhase)):\n",
    "    print(finalSubmittedDataFirstPhase[i])\n",
    "i = 0"
   ]
  },
  {
   "cell_type": "markdown",
   "metadata": {},
   "source": [
    "implementation of the second phase here auctioneer reforward each packet to every bidder to multiply their random number."
   ]
  },
  {
   "cell_type": "code",
   "execution_count": null,
   "metadata": {},
   "outputs": [],
   "source": [
    "#this function works as the intermediate steps where we are requesting each bidder to multiplyt his random number to the given ciphertext\n",
    "productOfRandomNumbers = 0\n",
    "for k in range(numberOfBidders):\n",
    "    productOfRandomNumbers = productOfRandomNumbers + dictionaryOfRandomNumbers[listOfIDS[k]]\n",
    "productOfRandomNumbers"
   ]
  },
  {
   "cell_type": "code",
   "execution_count": null,
   "metadata": {},
   "outputs": [],
   "source": [
    "def everyBiddersRandomNumberMultiplication(x):\n",
    "    x = np.power(x,productOfRandomNumbers)\n",
    "    return x.item()"
   ]
  },
  {
   "cell_type": "code",
   "execution_count": 123,
   "metadata": {},
   "outputs": [
    {
     "name": "stdout",
     "output_type": "stream",
     "text": [
      "2\n"
     ]
    }
   ],
   "source": [
    "finalDataOfSecondPhase = []\n",
    "auctioneerRandomNumber = rd.randint(2,2)\n",
    "print(auctioneerRandomNumber)\n",
    "for i in range(len(finalSubmittedDataFirstPhase)):\n",
    "    dataPerBidder = []\n",
    "    for j in range(numberOfBidders):\n",
    "        if finalSubmittedDataFirstPhase[i][j] == 0 :\n",
    "            dataPerBidder.append(0)\n",
    "        else:\n",
    "            encryptedValueByAuctioneer = publicKeyAuc.raw_encrypt(finalSubmittedDataFirstPhase[i][j] * auctioneerRandomNumber)\n",
    "            returnValue = everyBiddersRandomNumberMultiplication(encryptedValueByAuctioneer)\n",
    "            dataPerBidder.append((privateKeyAuc.raw_decrypt(returnValue)//auctioneerRandomNumber))\n",
    "    finalDataOfSecondPhase.append(dataPerBidder)\n",
    "i,j = 0,0\n"
   ]
  },
  {
   "cell_type": "code",
   "execution_count": null,
   "metadata": {},
   "outputs": [],
   "source": [
    "\n",
    "for i in range(len(finalDataOfSecondPhase)):\n",
    "    print(finalDataOfSecondPhase[i])\n",
    "i = 0"
   ]
  }
 ],
 "metadata": {
  "kernelspec": {
   "display_name": "Python 3",
   "language": "python",
   "name": "python3"
  },
  "language_info": {
   "codemirror_mode": {
    "name": "ipython",
    "version": 3
   },
   "file_extension": ".py",
   "mimetype": "text/x-python",
   "name": "python",
   "nbconvert_exporter": "python",
   "pygments_lexer": "ipython3",
   "version": "3.10.6"
  },
  "orig_nbformat": 4
 },
 "nbformat": 4,
 "nbformat_minor": 2
}
