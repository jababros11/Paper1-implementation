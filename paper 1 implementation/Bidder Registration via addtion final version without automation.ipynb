{
 "cells": [
  {
   "cell_type": "code",
   "execution_count": 1,
   "metadata": {},
   "outputs": [],
   "source": [
    "# this part of the codes fetches requirements\n",
    "import hashlib\n",
    "from phe import paillier\n",
    "import random as rd\n",
    "# import numpy as np"
   ]
  },
  {
   "cell_type": "code",
   "execution_count": 2,
   "metadata": {},
   "outputs": [],
   "source": [
    "#  this part of the code creates unique BID for all participants by the centeral authority\n",
    "listOfIDS = []\n",
    "numberOfBidders = 20\n",
    "for i in range(0,numberOfBidders):\n",
    "  i = str(i)\n",
    "  listOfIDS.append(hashlib.sha256(i.encode('utf-8')).hexdigest())\n",
    "i = 0"
   ]
  },
  {
   "cell_type": "code",
   "execution_count": 3,
   "metadata": {},
   "outputs": [],
   "source": [
    "#this part creates the key pairs for all participants\n",
    "dictionaryOfPublicKeys = {}\n",
    "dictionaryOfPrivateKeys = {}\n",
    "publicKeyAuc, privateKeyAuc = paillier.generate_paillier_keypair(n_length= 128)\n",
    "for i in range(0, numberOfBidders):\n",
    "    x,y = paillier.generate_paillier_keypair(n_length=256)\n",
    "    dictionaryOfPublicKeys[listOfIDS[i]],dictionaryOfPrivateKeys[listOfIDS[i]]  = x ,y\n",
    "i = 0"
   ]
  },
  {
   "cell_type": "markdown",
   "metadata": {},
   "source": [
    "end of the Registration phase and start of Bid Submission Phase"
   ]
  },
  {
   "cell_type": "code",
   "execution_count": 4,
   "metadata": {},
   "outputs": [
    {
     "name": "stdout",
     "output_type": "stream",
     "text": [
      "{'5feceb66ffc86f38d952786c6d696c79c2dbc239dd4e91b46729d73a27fb57e9': 58, '6b86b273ff34fce19d6b804eff5a3f5747ada4eaa22f1d49c01e52ddb7875b4b': 36, 'd4735e3a265e16eee03f59718b9b5d03019c07d8b6c51f90da3a666eec13ab35': 94, '4e07408562bedb8b60ce05c1decfe3ad16b72230967de01f640b7e4729b49fce': 19, '4b227777d4dd1fc61c6f884f48641d02b4d121d3fd328cb08b5531fcacdabf8a': 32, 'ef2d127de37b942baad06145e54b0c619a1f22327b2ebbcfbec78f5564afe39d': 15, 'e7f6c011776e8db7cd330b54174fd76f7d0216b612387a5ffcfb81e6f0919683': 74, '7902699be42c8a8e46fbbb4501726517e86b22c56a189f7625a6da49081b2451': 98, '2c624232cdd221771294dfbb310aca000a0df6ac8b66b696d90ef06fdefb64a3': 30, '19581e27de7ced00ff1ce50b2047e7a567c76b1cbaebabe5ef03f7c3017bb5b7': 86, '4a44dc15364204a80fe80e9039455cc1608281820fe2b24f1e5233ade6af1dd5': 64, '4fc82b26aecb47d2868c4efbe3581732a3e7cbcc6c2efb32062c08170a05eeb8': 55, '6b51d431df5d7f141cbececcf79edf3dd861c3b4069f0b11661a3eefacbba918': 89, '3fdba35f04dc8c462986c992bcf875546257113072a909c162f7e470e581e278': 31, '8527a891e224136950ff32ca212b45bc93f69fbb801c3b1ebedac52775f99e61': 44, 'e629fa6598d732768f7c726b4b621285f9c3b85303900aa912017db7617d8bdb': 59, 'b17ef6d19c7a5b1ee83b907c595526dcb1eb06db8227d650d5dda0a9f4ce8cd9': 6, '4523540f1504cd17100c4835e85b7eefd49911580f8efff0599a8f283be6b9e3': 25, '4ec9599fc203d176a301536c2e091a19bc852759b255bd6818810a42c5fed14a': 92, '9400f1b21cb527d7fa3d3eabba93557a18ebe7a2ca4e471cfe5e4c5b4ca7f767': 79}\n",
      "{'5feceb66ffc86f38d952786c6d696c79c2dbc239dd4e91b46729d73a27fb57e9': 1769, '6b86b273ff34fce19d6b804eff5a3f5747ada4eaa22f1d49c01e52ddb7875b4b': 1639, 'd4735e3a265e16eee03f59718b9b5d03019c07d8b6c51f90da3a666eec13ab35': 1333, '4e07408562bedb8b60ce05c1decfe3ad16b72230967de01f640b7e4729b49fce': 20, '4b227777d4dd1fc61c6f884f48641d02b4d121d3fd328cb08b5531fcacdabf8a': 1277, 'ef2d127de37b942baad06145e54b0c619a1f22327b2ebbcfbec78f5564afe39d': 905, 'e7f6c011776e8db7cd330b54174fd76f7d0216b612387a5ffcfb81e6f0919683': 1432, '7902699be42c8a8e46fbbb4501726517e86b22c56a189f7625a6da49081b2451': 254, '2c624232cdd221771294dfbb310aca000a0df6ac8b66b696d90ef06fdefb64a3': 302, '19581e27de7ced00ff1ce50b2047e7a567c76b1cbaebabe5ef03f7c3017bb5b7': 261, '4a44dc15364204a80fe80e9039455cc1608281820fe2b24f1e5233ade6af1dd5': 334, '4fc82b26aecb47d2868c4efbe3581732a3e7cbcc6c2efb32062c08170a05eeb8': 1116, '6b51d431df5d7f141cbececcf79edf3dd861c3b4069f0b11661a3eefacbba918': 1242, '3fdba35f04dc8c462986c992bcf875546257113072a909c162f7e470e581e278': 797, '8527a891e224136950ff32ca212b45bc93f69fbb801c3b1ebedac52775f99e61': 509, 'e629fa6598d732768f7c726b4b621285f9c3b85303900aa912017db7617d8bdb': 1832, 'b17ef6d19c7a5b1ee83b907c595526dcb1eb06db8227d650d5dda0a9f4ce8cd9': 518, '4523540f1504cd17100c4835e85b7eefd49911580f8efff0599a8f283be6b9e3': 1586, '4ec9599fc203d176a301536c2e091a19bc852759b255bd6818810a42c5fed14a': 437, '9400f1b21cb527d7fa3d3eabba93557a18ebe7a2ca4e471cfe5e4c5b4ca7f767': 438}\n"
     ]
    }
   ],
   "source": [
    "# this part of the code generate random number and distinct bid values for all bidders and Auctioneer\n",
    "dictionaryOfRandomNumbers = {}\n",
    "dictionaryOfBids = {}\n",
    "bids  = rd.sample(range(1, 100 ), numberOfBidders)\n",
    "for i in range(0,numberOfBidders):\n",
    "    r  = rd.randint(1,2000)\n",
    "    dictionaryOfRandomNumbers[listOfIDS[i]] =  r\n",
    "    dictionaryOfBids[listOfIDS[i]] = bids[i]\n",
    "i = 0\n",
    "print(dictionaryOfBids)\n",
    "print(dictionaryOfRandomNumbers)\n"
   ]
  },
  {
   "cell_type": "code",
   "execution_count": 5,
   "metadata": {},
   "outputs": [],
   "source": [
    "# this PART OF THE CODE SIMULATES BIDDER GENERATING PRODUCT AND THAN SENDING TO NEXT BIDDER\n",
    "finalSubmittedDataFirstPhase = [] #will be sused to stored the final resuklt of the two bidder for bid submission\n",
    "for i in range(0,numberOfBidders):\n",
    "    id = listOfIDS[i]\n",
    "    dataPerBidder= []\n",
    "    # print(dictionaryOfBids[id] * dictionaryOfRandomNumbers[id])\n",
    "    encrytionOfBidAndRandomNumber = publicKeyAuc.raw_encrypt(dictionaryOfBids[id] + dictionaryOfRandomNumbers[id])\n",
    "    # this part of code is forwarding the encrytionOfBidAndRandomNumber to all other bidders and after addition of the random number of the next bidder it is sent to the Auctioneer immediately\n",
    "    for j in range(0,numberOfBidders):\n",
    "        if j != i:\n",
    "            idOfNextBidder = listOfIDS[j]\n",
    "            pubKeyNextBidder, priKeyNextBidder= dictionaryOfPublicKeys[idOfNextBidder],dictionaryOfPrivateKeys[idOfNextBidder]\n",
    "            e = pubKeyNextBidder.raw_encrypt(encrytionOfBidAndRandomNumber)\n",
    "            e = priKeyNextBidder.raw_decrypt(e)\n",
    "            encrytionOfBidAndBothRandomNumber = e * pow(publicKeyAuc.g,dictionaryOfRandomNumbers[idOfNextBidder])\n",
    "            # this part of the code simulates the storing of the data of the bid summision to auctioneer data\n",
    "            dataPerBidder.append(privateKeyAuc.raw_decrypt(encrytionOfBidAndBothRandomNumber))\n",
    "        else:\n",
    "            dataPerBidder.append(0)\n",
    "    finalSubmittedDataFirstPhase.append(dataPerBidder)\n",
    "i,j = 0,0"
   ]
  },
  {
   "cell_type": "code",
   "execution_count": 6,
   "metadata": {},
   "outputs": [
    {
     "name": "stdout",
     "output_type": "stream",
     "text": [
      "[0, 3466, 3160, 1847, 3104, 2732, 3259, 2081, 2129, 2088, 2161, 2943, 3069, 2624, 2336, 3659, 2345, 3413, 2264, 2265]\n",
      "[3444, 0, 3008, 1695, 2952, 2580, 3107, 1929, 1977, 1936, 2009, 2791, 2917, 2472, 2184, 3507, 2193, 3261, 2112, 2113]\n",
      "[3196, 3066, 0, 1447, 40481112857437914693511949302173694953, 2332, 2859, 1681, 1729, 1688, 1761, 2543, 2669, 2224, 1936, 3259, 1945, 3013, 1864, 1865]\n",
      "[1808, 1678, 1372, 0, 76025464948198160777811654082277838625, 944, 1471, 293, 341, 300, 373, 1155, 1281, 836, 548, 1871, 557, 1625, 476, 477]\n",
      "[3078, 2948, 2642, 1329, 0, 2214, 2741, 1563, 1611, 1570, 1643, 2425, 2551, 2106, 1818, 3141, 1827, 2895, 1746, 1747]\n",
      "[2689, 2559, 2253, 940, 2197, 0, 2352, 1174, 1222, 1181, 1254, 2036, 2162, 1717, 1429, 2752, 1438, 2506, 1357, 1358]\n",
      "[3275, 3145, 2839, 1526, 2783, 2411, 0, 1760, 1808, 1767, 1840, 2622, 2748, 2303, 2015, 3338, 2024, 3092, 1943, 1944]\n",
      "[2121, 1991, 1685, 372, 1629, 1257, 1784, 0, 654, 613, 686, 1468, 1594, 1149, 861, 2184, 870, 1938, 789, 790]\n",
      "[2101, 1971, 1665, 352, 1609, 1237, 1764, 586, 0, 593, 666, 1448, 1574, 1129, 841, 2164, 850, 1918, 769, 770]\n",
      "[2116, 1986, 1680, 367, 1624, 1252, 1779, 601, 649, 0, 681, 1463, 1589, 1144, 856, 2179, 865, 1933, 784, 785]\n",
      "[2167, 2037, 1731, 418, 1675, 1303, 1830, 652, 700, 659, 0, 1514, 1640, 1195, 907, 2230, 916, 1984, 835, 836]\n",
      "[2940, 2810, 2504, 1191, 2448, 2076, 2603, 1425, 1473, 1432, 1505, 0, 2413, 1968, 1680, 3003, 1689, 2757, 1608, 1609]\n",
      "[3100, 2970, 2664, 1351, 2608, 2236, 2763, 1585, 1633, 1592, 1665, 2447, 0, 2128, 1840, 3163, 1849, 2917, 1768, 1769]\n",
      "[2597, 2467, 2161, 848, 2105, 1733, 2260, 1082, 1130, 1089, 1162, 1944, 2070, 0, 1337, 2660, 1346, 2414, 1265, 1266]\n",
      "[2322, 2192, 1886, 573, 1830, 1458, 1985, 807, 855, 814, 887, 1669, 1795, 1350, 0, 2385, 1071, 2139, 990, 991]\n",
      "[3660, 3530, 3224, 1911, 3168, 2796, 3323, 2145, 2193, 2152, 2225, 3007, 3133, 2688, 2400, 0, 2409, 3477, 2328, 2329]\n",
      "[2293, 2163, 1857, 544, 1801, 1429, 1956, 778, 826, 785, 858, 1640, 1766, 1321, 1033, 2356, 0, 2110, 961, 962]\n",
      "[3380, 3250, 2944, 1631, 2888, 2516, 3043, 1865, 1913, 1872, 1945, 2727, 2853, 2408, 2120, 3443, 2129, 0, 2048, 2049]\n",
      "[2298, 2168, 1862, 549, 164429715859913435489632990533560504320, 1434, 1961, 783, 831, 790, 863, 1645, 1771, 1326, 1038, 2361, 1047, 2115, 0, 967]\n",
      "[2286, 2156, 1850, 537, 1794, 1422, 1949, 771, 819, 778, 851, 1633, 1759, 1314, 1026, 2349, 1035, 2103, 954, 0]\n"
     ]
    }
   ],
   "source": [
    "for i in range(len(finalSubmittedDataFirstPhase)):\n",
    "    print(finalSubmittedDataFirstPhase[i])\n",
    "i = 0"
   ]
  },
  {
   "cell_type": "markdown",
   "metadata": {},
   "source": [
    "implementation of the second phase here auctioneer reforward each packet to every bidder to multiply their random number."
   ]
  },
  {
   "cell_type": "code",
   "execution_count": 7,
   "metadata": {},
   "outputs": [
    {
     "name": "stdout",
     "output_type": "stream",
     "text": [
      "4\n",
      "37088\n",
      "37088\n",
      "37088\n",
      "37088\n",
      "37088\n",
      "37088\n",
      "37088\n",
      "37088\n",
      "37088\n",
      "37088\n",
      "37088\n",
      "37088\n",
      "37088\n",
      "37088\n",
      "37088\n",
      "37088\n",
      "37088\n",
      "37088\n",
      "37088\n",
      "37088\n"
     ]
    }
   ],
   "source": [
    "#this works for a step of one\n",
    "# for i in range(numberOfBidders):\n",
    "#     sum = 0\n",
    "#     for j in range(numberOfBidders):\n",
    "#         if j + i < numberOfBidders:\n",
    "#             sum = sum + finalSubmittedDataFirstPhase[j][j+i]\n",
    "#         else:\n",
    "#             sum = sum + finalSubmittedDataFirstPhase[j][(j+i)% numberOfBidders]\n",
    "#     print(sum)   \n",
    "# this works for any random step that has been taken in range (1,numberOfBidders) \n",
    "k = rd.randint(1,9)\n",
    "print(k)\n",
    "for i in range(numberOfBidders):\n",
    "    sum = 0\n",
    "    for j in range(numberOfBidders):\n",
    "        if j + k < numberOfBidders:\n",
    "            sum = sum + finalSubmittedDataFirstPhase[j][j+k]\n",
    "        else:\n",
    "            #we took the mod so that the next bidder value should come to the range from the number of the bidders\n",
    "            sum = sum + finalSubmittedDataFirstPhase[j][(j+k)% numberOfBidders]\n",
    "    print(sum)  "
   ]
  },
  {
   "cell_type": "code",
   "execution_count": 8,
   "metadata": {},
   "outputs": [
    {
     "name": "stdout",
     "output_type": "stream",
     "text": [
      "7\n"
     ]
    },
    {
     "data": {
      "text/plain": [
       "{'5feceb66ffc86f38d952786c6d696c79c2dbc239dd4e91b46729d73a27fb57e9': 58,\n",
       " '6b86b273ff34fce19d6b804eff5a3f5747ada4eaa22f1d49c01e52ddb7875b4b': 36,\n",
       " 'd4735e3a265e16eee03f59718b9b5d03019c07d8b6c51f90da3a666eec13ab35': 94,\n",
       " '4e07408562bedb8b60ce05c1decfe3ad16b72230967de01f640b7e4729b49fce': 19,\n",
       " '4b227777d4dd1fc61c6f884f48641d02b4d121d3fd328cb08b5531fcacdabf8a': 32,\n",
       " 'ef2d127de37b942baad06145e54b0c619a1f22327b2ebbcfbec78f5564afe39d': 15,\n",
       " 'e7f6c011776e8db7cd330b54174fd76f7d0216b612387a5ffcfb81e6f0919683': 74,\n",
       " '7902699be42c8a8e46fbbb4501726517e86b22c56a189f7625a6da49081b2451': 98,\n",
       " '2c624232cdd221771294dfbb310aca000a0df6ac8b66b696d90ef06fdefb64a3': 30,\n",
       " '19581e27de7ced00ff1ce50b2047e7a567c76b1cbaebabe5ef03f7c3017bb5b7': 86,\n",
       " '4a44dc15364204a80fe80e9039455cc1608281820fe2b24f1e5233ade6af1dd5': 64,\n",
       " '4fc82b26aecb47d2868c4efbe3581732a3e7cbcc6c2efb32062c08170a05eeb8': 55,\n",
       " '6b51d431df5d7f141cbececcf79edf3dd861c3b4069f0b11661a3eefacbba918': 89,\n",
       " '3fdba35f04dc8c462986c992bcf875546257113072a909c162f7e470e581e278': 31,\n",
       " '8527a891e224136950ff32ca212b45bc93f69fbb801c3b1ebedac52775f99e61': 44,\n",
       " 'e629fa6598d732768f7c726b4b621285f9c3b85303900aa912017db7617d8bdb': 59,\n",
       " 'b17ef6d19c7a5b1ee83b907c595526dcb1eb06db8227d650d5dda0a9f4ce8cd9': 6,\n",
       " '4523540f1504cd17100c4835e85b7eefd49911580f8efff0599a8f283be6b9e3': 25,\n",
       " '4ec9599fc203d176a301536c2e091a19bc852759b255bd6818810a42c5fed14a': 92,\n",
       " '9400f1b21cb527d7fa3d3eabba93557a18ebe7a2ca4e471cfe5e4c5b4ca7f767': 79}"
      ]
     },
     "execution_count": 8,
     "metadata": {},
     "output_type": "execute_result"
    }
   ],
   "source": [
    "# this function chjoosews the best buyer based on the comparison it works as the auctrioneer is comparing each pair\n",
    "\n",
    "highestbidder = 0 \n",
    "def chooseBestBuyer():\n",
    "    global highestbidder\n",
    "    for i in range(0,numberOfBidders):\n",
    "        highestbidder = i\n",
    "        for j in range(0,numberOfBidders):\n",
    "            if i != j:\n",
    "                if finalSubmittedDataFirstPhase[i][j] < finalSubmittedDataFirstPhase[j][i]:\n",
    "                    highestbidder  = j\n",
    "                    i = j\n",
    "            else:\n",
    "                continue\n",
    "                \n",
    "\n",
    "#     global highestbidder\n",
    "#     for i in range(0,numberOfBidders):   \n",
    "#         for j in range(0,numberOfBidders):\n",
    "#                 if i == j : \n",
    "#                      pass\n",
    "#                 else:\n",
    "#                      if (finalSubmittedDataFirstPhase[i][j])  > (finalSubmittedDataFirstPhase[j][i]):\n",
    "#                          highestbidder = j\n",
    "chooseBestBuyer()\n",
    "print(highestbidder)\n",
    "dictionaryOfBids"
   ]
  },
  {
   "cell_type": "code",
   "execution_count": 9,
   "metadata": {},
   "outputs": [],
   "source": [
    "sum = 0\n",
    "for i in range(numberOfBidders):\n",
    "    id = listOfIDS[i]\n",
    "    r = dictionaryOfRandomNumbers[id]\n",
    "    sum = sum + r\n",
    "sum\n",
    "i = 0"
   ]
  }
 ],
 "metadata": {
  "kernelspec": {
   "display_name": "Python 3",
   "language": "python",
   "name": "python3"
  },
  "language_info": {
   "codemirror_mode": {
    "name": "ipython",
    "version": 3
   },
   "file_extension": ".py",
   "mimetype": "text/x-python",
   "name": "python",
   "nbconvert_exporter": "python",
   "pygments_lexer": "ipython3",
   "version": "3.10.6"
  },
  "orig_nbformat": 4
 },
 "nbformat": 4,
 "nbformat_minor": 2
}
